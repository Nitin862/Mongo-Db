{
 "cells": [
  {
   "cell_type": "code",
   "execution_count": 1,
   "id": "3a7cc6ca-70de-42a9-83e8-b44e8b9e5afd",
   "metadata": {},
   "outputs": [
    {
     "data": {
      "text/plain": [
       "'Q1. What is MongoDB? Explain non-relational databases in short. In which scenarios it is preferred to use\\nMongoDB over SQL databases?'"
      ]
     },
     "execution_count": 1,
     "metadata": {},
     "output_type": "execute_result"
    }
   ],
   "source": [
    "'''Q1. What is MongoDB? Explain non-relational databases in short. In which scenarios it is preferred to use\n",
    "MongoDB over SQL databases?'''\n"
   ]
  },
  {
   "cell_type": "code",
   "execution_count": 2,
   "id": "a0474d83-0bd6-4e88-b0f3-19b7470b25f8",
   "metadata": {},
   "outputs": [
    {
     "data": {
      "text/plain": [
       "'MongoDB:\\n\\nDefinition: MongoDB is a NoSQL, document-oriented database that stores data in flexible, JSON-like documents.\\nNon-Relational Databases:\\n\\nDefinition: Non-relational databases (NoSQL) are designed to handle unstructured or semi-structured data, using formats\\nlike documents, key-value pairs, wide-columns, or graphs. They do not require a fixed schema.\\nWhen to Use MongoDB Over SQL Databases:\\n\\nFlexible Schema: When you need to store documents with varying structures.\\nScalability: For applications requiring horizontal scaling and handling large volumes of data.\\nRapid Development: When you need quick and iterative development without schema constraints.\\nUnstructured Data: For applications dealing with unstructured or semi-structured data, like content management systems or \\nreal-time analytics.'"
      ]
     },
     "execution_count": 2,
     "metadata": {},
     "output_type": "execute_result"
    }
   ],
   "source": [
    "'''MongoDB:\n",
    "\n",
    "Definition: MongoDB is a NoSQL, document-oriented database that stores data in flexible, JSON-like documents.\n",
    "Non-Relational Databases:\n",
    "\n",
    "Definition: Non-relational databases (NoSQL) are designed to handle unstructured or semi-structured data, using formats\n",
    "like documents, key-value pairs, wide-columns, or graphs. They do not require a fixed schema.\n",
    "When to Use MongoDB Over SQL Databases:\n",
    "\n",
    "Flexible Schema: When you need to store documents with varying structures.\n",
    "Scalability: For applications requiring horizontal scaling and handling large volumes of data.\n",
    "Rapid Development: When you need quick and iterative development without schema constraints.\n",
    "Unstructured Data: For applications dealing with unstructured or semi-structured data, like content management systems or \n",
    "real-time analytics.'''"
   ]
  },
  {
   "cell_type": "code",
   "execution_count": 4,
   "id": "bbb96da4-0d20-4dc5-b357-9bd2f74b005d",
   "metadata": {},
   "outputs": [
    {
     "data": {
      "text/plain": [
       "'Q2. State and Explain the features of MongoDB.'"
      ]
     },
     "execution_count": 4,
     "metadata": {},
     "output_type": "execute_result"
    }
   ],
   "source": [
    "'''Q2. State and Explain the features of MongoDB.'''"
   ]
  },
  {
   "cell_type": "code",
   "execution_count": 5,
   "id": "a230dc5a-d62a-4888-8961-dcce3b1e6a16",
   "metadata": {},
   "outputs": [
    {
     "data": {
      "text/plain": [
       "'Features of MongoDB:\\n\\nDocument-Oriented: Stores data in flexible, JSON-like documents (BSON), allowing for varied data structures and easy updates.\\n\\nSchema Flexibility: Supports dynamic schema, meaning you can modify the structure of documents without altering the database schema.\\n\\nHorizontal Scalability: Easily scales out by distributing data across multiple servers (sharding) to handle large volumes of data.\\n\\nHigh Performance: Optimized for high performance with indexing, in-memory processing, and efficient query execution.\\n\\nAggregation Framework: Provides powerful aggregation capabilities to perform complex queries, data transformations, and analysis.\\n\\nReplication: Supports replica sets to ensure high availability and data redundancy by automatically replicating data across multiple servers.\\n\\nFull-Text Search: Includes built-in support for full-text search queries, enabling advanced search capabilities within documents.\\n\\nGeospatial Indexing: Offers geospatial indexing and querying to handle location-based data and queries efficiently.'"
      ]
     },
     "execution_count": 5,
     "metadata": {},
     "output_type": "execute_result"
    }
   ],
   "source": [
    "'''Features of MongoDB:\n",
    "\n",
    "Document-Oriented: Stores data in flexible, JSON-like documents (BSON), allowing for varied data structures and easy updates.\n",
    "\n",
    "Schema Flexibility: Supports dynamic schema, meaning you can modify the structure of documents without altering the database schema.\n",
    "\n",
    "Horizontal Scalability: Easily scales out by distributing data across multiple servers (sharding) to handle large volumes of data.\n",
    "\n",
    "High Performance: Optimized for high performance with indexing, in-memory processing, and efficient query execution.\n",
    "\n",
    "Aggregation Framework: Provides powerful aggregation capabilities to perform complex queries, data transformations, and analysis.\n",
    "\n",
    "Replication: Supports replica sets to ensure high availability and data redundancy by automatically replicating data across multiple servers.\n",
    "\n",
    "Full-Text Search: Includes built-in support for full-text search queries, enabling advanced search capabilities within documents.\n",
    "\n",
    "Geospatial Indexing: Offers geospatial indexing and querying to handle location-based data and queries efficiently.'''\n",
    "\n"
   ]
  },
  {
   "cell_type": "code",
   "execution_count": 6,
   "id": "03bbb574-f184-41bc-9bb5-70764ad5c0b2",
   "metadata": {},
   "outputs": [
    {
     "data": {
      "text/plain": [
       "'Q3. Write a code to connect MongoDB to Python. Also, create a database and a collection in MongoDB.'"
      ]
     },
     "execution_count": 6,
     "metadata": {},
     "output_type": "execute_result"
    }
   ],
   "source": [
    "'''Q3. Write a code to connect MongoDB to Python. Also, create a database and a collection in MongoDB.'''"
   ]
  },
  {
   "cell_type": "code",
   "execution_count": 7,
   "id": "92900822-0a62-4970-91c0-74530aeb95d0",
   "metadata": {},
   "outputs": [
    {
     "ename": "ModuleNotFoundError",
     "evalue": "No module named 'pymongo'",
     "output_type": "error",
     "traceback": [
      "\u001b[0;31m---------------------------------------------------------------------------\u001b[0m",
      "\u001b[0;31mModuleNotFoundError\u001b[0m                       Traceback (most recent call last)",
      "Cell \u001b[0;32mIn[7], line 1\u001b[0m\n\u001b[0;32m----> 1\u001b[0m \u001b[38;5;28;01mfrom\u001b[39;00m \u001b[38;5;21;01mpymongo\u001b[39;00m \u001b[38;5;28;01mimport\u001b[39;00m MongoClient\n\u001b[1;32m      3\u001b[0m \u001b[38;5;66;03m# Connect to MongoDB server\u001b[39;00m\n\u001b[1;32m      4\u001b[0m client \u001b[38;5;241m=\u001b[39m MongoClient(\u001b[38;5;124m'\u001b[39m\u001b[38;5;124mmongodb://localhost:27017/\u001b[39m\u001b[38;5;124m'\u001b[39m)\n",
      "\u001b[0;31mModuleNotFoundError\u001b[0m: No module named 'pymongo'"
     ]
    }
   ],
   "source": [
    "from pymongo import MongoClient\n",
    "\n",
    "# Connect to MongoDB server\n",
    "client = MongoClient('mongodb://localhost:27017/')\n",
    "\n",
    "# Create a database\n",
    "db = client['my_database']\n",
    "\n",
    "# Create a collection\n",
    "collection = db['my_collection']\n",
    "\n",
    "print(\"Database and collection created successfully.\")\n"
   ]
  },
  {
   "cell_type": "code",
   "execution_count": 8,
   "id": "af6f5fe7-bf91-4813-b162-7f58343a89b7",
   "metadata": {},
   "outputs": [
    {
     "data": {
      "text/plain": [
       "'Q4. Using the database and the collection created in question number 3, write a code to insert one record,\\nand insert many records. Use the find() and find_one() methods to print the inserted record.'"
      ]
     },
     "execution_count": 8,
     "metadata": {},
     "output_type": "execute_result"
    }
   ],
   "source": [
    "'''Q4. Using the database and the collection created in question number 3, write a code to insert one record,\n",
    "and insert many records. Use the find() and find_one() methods to print the inserted record.'''"
   ]
  },
  {
   "cell_type": "code",
   "execution_count": 9,
   "id": "8d3db6c8-744c-4bd1-8340-d026fcfac7de",
   "metadata": {},
   "outputs": [
    {
     "ename": "ModuleNotFoundError",
     "evalue": "No module named 'pymongo'",
     "output_type": "error",
     "traceback": [
      "\u001b[0;31m---------------------------------------------------------------------------\u001b[0m",
      "\u001b[0;31mModuleNotFoundError\u001b[0m                       Traceback (most recent call last)",
      "Cell \u001b[0;32mIn[9], line 1\u001b[0m\n\u001b[0;32m----> 1\u001b[0m \u001b[38;5;28;01mfrom\u001b[39;00m \u001b[38;5;21;01mpymongo\u001b[39;00m \u001b[38;5;28;01mimport\u001b[39;00m MongoClient\n\u001b[1;32m      3\u001b[0m \u001b[38;5;66;03m# Connect to MongoDB server\u001b[39;00m\n\u001b[1;32m      4\u001b[0m client \u001b[38;5;241m=\u001b[39m MongoClient(\u001b[38;5;124m'\u001b[39m\u001b[38;5;124mmongodb://localhost:27017/\u001b[39m\u001b[38;5;124m'\u001b[39m)\n",
      "\u001b[0;31mModuleNotFoundError\u001b[0m: No module named 'pymongo'"
     ]
    }
   ],
   "source": [
    "from pymongo import MongoClient\n",
    "\n",
    "# Connect to MongoDB server\n",
    "client = MongoClient('mongodb://localhost:27017/')\n",
    "\n",
    "# Access the database and collection\n",
    "db = client['my_database']\n",
    "collection = db['my_collection']\n",
    "\n",
    "# Insert one record\n",
    "single_record = {\"name\": \"Alice\", \"age\": 30, \"city\": \"New York\"}\n",
    "collection.insert_one(single_record)\n",
    "\n",
    "# Insert many records\n",
    "multiple_records = [\n",
    "    {\"name\": \"Bob\", \"age\": 25, \"city\": \"San Francisco\"},\n",
    "    {\"name\": \"Charlie\", \"age\": 35, \"city\": \"Chicago\"}\n",
    "]\n",
    "collection.insert_many(multiple_records)\n",
    "\n",
    "# Print all records using find()\n",
    "print(\"All records:\")\n",
    "for record in collection.find():\n",
    "    print(record)\n",
    "\n",
    "# Print one record using find_one()\n",
    "print(\"\\nOne record:\")\n",
    "print(collection.find_one({\"name\": \"Alice\"}))\n"
   ]
  },
  {
   "cell_type": "code",
   "execution_count": 10,
   "id": "8bed4383-6e81-4b0e-bfc3-5cacf703250b",
   "metadata": {},
   "outputs": [
    {
     "data": {
      "text/plain": [
       "'Q5. Explain how you can use the find() method to query the MongoDB database. Write a simple code to\\ndemonstrate this.'"
      ]
     },
     "execution_count": 10,
     "metadata": {},
     "output_type": "execute_result"
    }
   ],
   "source": [
    "'''Q5. Explain how you can use the find() method to query the MongoDB database. Write a simple code to\n",
    "demonstrate this.'''"
   ]
  },
  {
   "cell_type": "code",
   "execution_count": 11,
   "id": "d345bd23-3c32-4ed9-95b9-9620f2fd6dc0",
   "metadata": {},
   "outputs": [
    {
     "ename": "ModuleNotFoundError",
     "evalue": "No module named 'pymongo'",
     "output_type": "error",
     "traceback": [
      "\u001b[0;31m---------------------------------------------------------------------------\u001b[0m",
      "\u001b[0;31mModuleNotFoundError\u001b[0m                       Traceback (most recent call last)",
      "Cell \u001b[0;32mIn[11], line 1\u001b[0m\n\u001b[0;32m----> 1\u001b[0m \u001b[38;5;28;01mfrom\u001b[39;00m \u001b[38;5;21;01mpymongo\u001b[39;00m \u001b[38;5;28;01mimport\u001b[39;00m MongoClient\n\u001b[1;32m      3\u001b[0m \u001b[38;5;66;03m# Connect to MongoDB server\u001b[39;00m\n\u001b[1;32m      4\u001b[0m client \u001b[38;5;241m=\u001b[39m MongoClient(\u001b[38;5;124m'\u001b[39m\u001b[38;5;124mmongodb://localhost:27017/\u001b[39m\u001b[38;5;124m'\u001b[39m)\n",
      "\u001b[0;31mModuleNotFoundError\u001b[0m: No module named 'pymongo'"
     ]
    }
   ],
   "source": [
    "\n",
    "\n",
    "\n",
    "\n",
    "\n",
    "from pymongo import MongoClient\n",
    "\n",
    "# Connect to MongoDB server\n",
    "client = MongoClient('mongodb://localhost:27017/')\n",
    "\n",
    "# Access the database and collection\n",
    "db = client['my_database']\n",
    "collection = db['my_collection']\n",
    "\n",
    "# Query to find documents where age is greater than 25\n",
    "query = {\"age\": {\"$gt\": 25}}\n",
    "\n",
    "# Execute the query\n",
    "results = collection.find(query)\n",
    "\n",
    "# Print the results\n",
    "for document in results:\n",
    "    print(document)\n"
   ]
  },
  {
   "cell_type": "code",
   "execution_count": 12,
   "id": "64b82d78-0e71-471e-93a0-f4bad4a9ccb1",
   "metadata": {},
   "outputs": [
    {
     "data": {
      "text/plain": [
       "'Definition: The find() method is used to retrieve multiple documents from \\na MongoDB collection that match a specified query criteria. It returns a cursor that you can iterate over to access the matching documents.'"
      ]
     },
     "execution_count": 12,
     "metadata": {},
     "output_type": "execute_result"
    }
   ],
   "source": [
    "'''Definition: The find() method is used to retrieve multiple documents from \n",
    "a MongoDB collection that match a specified query criteria. It returns a cursor that you can iterate over to access the matching documents.'''"
   ]
  },
  {
   "cell_type": "code",
   "execution_count": 13,
   "id": "711c30cc-3590-477b-83a5-11b190b3a6d9",
   "metadata": {},
   "outputs": [
    {
     "data": {
      "text/plain": [
       "'Explain the sort() method. Give an example to demonstrate sorting in MongoDB.'"
      ]
     },
     "execution_count": 13,
     "metadata": {},
     "output_type": "execute_result"
    }
   ],
   "source": [
    "'''Explain the sort() method. Give an example to demonstrate sorting in MongoDB.'''"
   ]
  },
  {
   "cell_type": "code",
   "execution_count": 14,
   "id": "80cdf219-b3c7-4d3e-9125-331813d3ba2d",
   "metadata": {},
   "outputs": [
    {
     "data": {
      "text/plain": [
       "'The sort() Method:\\n\\nDefinition: The sort() \\nmethod in MongoDB is used to order the results of a query based on one or more fields, either in ascending (1) or descending (-1) order'"
      ]
     },
     "execution_count": 14,
     "metadata": {},
     "output_type": "execute_result"
    }
   ],
   "source": [
    "'''The sort() Method:\n",
    "\n",
    "Definition: The sort() \n",
    "method in MongoDB is used to order the results of a query based on one or more fields, either in ascending (1) or descending (-1) order'''"
   ]
  },
  {
   "cell_type": "code",
   "execution_count": 15,
   "id": "d4e60b62-b323-4c38-8a7b-54e90bbaacb4",
   "metadata": {},
   "outputs": [
    {
     "ename": "ModuleNotFoundError",
     "evalue": "No module named 'pymongo'",
     "output_type": "error",
     "traceback": [
      "\u001b[0;31m---------------------------------------------------------------------------\u001b[0m",
      "\u001b[0;31mModuleNotFoundError\u001b[0m                       Traceback (most recent call last)",
      "Cell \u001b[0;32mIn[15], line 1\u001b[0m\n\u001b[0;32m----> 1\u001b[0m \u001b[38;5;28;01mfrom\u001b[39;00m \u001b[38;5;21;01mpymongo\u001b[39;00m \u001b[38;5;28;01mimport\u001b[39;00m MongoClient\n\u001b[1;32m      3\u001b[0m \u001b[38;5;66;03m# Connect to MongoDB server\u001b[39;00m\n\u001b[1;32m      4\u001b[0m client \u001b[38;5;241m=\u001b[39m MongoClient(\u001b[38;5;124m'\u001b[39m\u001b[38;5;124mmongodb://localhost:27017/\u001b[39m\u001b[38;5;124m'\u001b[39m)\n",
      "\u001b[0;31mModuleNotFoundError\u001b[0m: No module named 'pymongo'"
     ]
    }
   ],
   "source": [
    "from pymongo import MongoClient\n",
    "\n",
    "# Connect to MongoDB server\n",
    "client = MongoClient('mongodb://localhost:27017/')\n",
    "\n",
    "# Access the database and collection\n",
    "db = client['my_database']\n",
    "collection = db['my_collection']\n",
    "\n",
    "# Insert sample records\n",
    "collection.insert_many([\n",
    "    {\"name\": \"Alice\", \"age\": 30},\n",
    "    {\"name\": \"Bob\", \"age\": 25},\n",
    "    {\"name\": \"Charlie\", \"age\": 35}\n",
    "])\n",
    "\n",
    "# Query and sort records by age in ascending order\n",
    "sorted_results = collection.find().sort(\"age\", 1)\n",
    "\n",
    "# Print the sorted results\n",
    "for document in sorted_results:\n",
    "    print(document)\n"
   ]
  },
  {
   "cell_type": "code",
   "execution_count": 16,
   "id": "9e2430d4-d5f3-44de-9543-c524bb4a48c2",
   "metadata": {},
   "outputs": [
    {
     "data": {
      "text/plain": [
       "'Q7. Explain why delete_one(), delete_many(), and drop() is used.'"
      ]
     },
     "execution_count": 16,
     "metadata": {},
     "output_type": "execute_result"
    }
   ],
   "source": [
    "'''Q7. Explain why delete_one(), delete_many(), and drop() is used.'''"
   ]
  },
  {
   "cell_type": "code",
   "execution_count": 17,
   "id": "75a5b0ee-4b2c-4a9b-a1b8-6389ae245ce7",
   "metadata": {},
   "outputs": [
    {
     "data": {
      "text/plain": [
       "'Purpose: Deletes a single document that matches the specified query.\\nUse Case: To remove a specific document from a collection.\\ndelete_many():\\n\\nPurpose: Deletes all documents that match the specified query.\\nUse Case: To remove multiple documents based on a condition.\\ndrop():\\n\\nPurpose: Deletes an entire collection or database.\\nUse Case: To remove a collection or database and all of its data.'"
      ]
     },
     "execution_count": 17,
     "metadata": {},
     "output_type": "execute_result"
    }
   ],
   "source": [
    "'''Purpose: Deletes a single document that matches the specified query.\n",
    "Use Case: To remove a specific document from a collection.\n",
    "delete_many():\n",
    "\n",
    "Purpose: Deletes all documents that match the specified query.\n",
    "Use Case: To remove multiple documents based on a condition.\n",
    "drop():\n",
    "\n",
    "Purpose: Deletes an entire collection or database.\n",
    "Use Case: To remove a collection or database and all of its data.'''"
   ]
  },
  {
   "cell_type": "code",
   "execution_count": null,
   "id": "c180d8be-fdde-4f35-a9e5-fc6f0b9404d5",
   "metadata": {},
   "outputs": [],
   "source": []
  }
 ],
 "metadata": {
  "kernelspec": {
   "display_name": "Python 3 (ipykernel)",
   "language": "python",
   "name": "python3"
  },
  "language_info": {
   "codemirror_mode": {
    "name": "ipython",
    "version": 3
   },
   "file_extension": ".py",
   "mimetype": "text/x-python",
   "name": "python",
   "nbconvert_exporter": "python",
   "pygments_lexer": "ipython3",
   "version": "3.10.8"
  }
 },
 "nbformat": 4,
 "nbformat_minor": 5
}
